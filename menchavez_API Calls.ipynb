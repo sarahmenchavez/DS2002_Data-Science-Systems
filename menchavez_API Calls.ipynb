{
 "cells": [
  {
   "cell_type": "code",
   "execution_count": null,
   "id": "462422d8-56a3-4a36-8275-9b2a6d49de4d",
   "metadata": {},
   "outputs": [],
   "source": [
    "import json\n",
    "import pandas as pd\n",
    "\n",
    "import requests"
   ]
  },
  {
   "cell_type": "code",
   "execution_count": null,
   "id": "b5c5fdb8-d044-4a0d-9b52-a0ba6fd0bde4",
   "metadata": {},
   "outputs": [],
   "source": [
    "#get stock from the user\n",
    "stock=input()"
   ]
  },
  {
   "cell_type": "code",
   "execution_count": null,
   "id": "ebbfc6f0-452c-4cf5-a3ea-46b32e75410f",
   "metadata": {},
   "outputs": [],
   "source": [
    "print(\"The Stock we will research is: \" + stock)"
   ]
  },
  {
   "cell_type": "code",
   "execution_count": null,
   "id": "92302048-4a5b-41bb-9de6-68464d770025",
   "metadata": {},
   "outputs": [],
   "source": [
    "apikey=\"T6jiwRsdqm82cxKlnTy5W3P75YdkjmCy61H7zyz1\"\n",
    "\n",
    "url = \"https://yfapi.net/v6/finance/quote\"\n",
    "\n",
    "querystring = {\"symbols\":stock}\n",
    "\n",
    "headers = {\n",
    "    'x-api-key': apikey\n",
    "    }\n",
    "\n",
    "response = requests.request(\"GET\", url, headers=headers, params=querystring)\n",
    "\n",
    "print(response.text)"
   ]
  },
  {
   "cell_type": "code",
   "execution_count": null,
   "id": "4052b328-6190-458d-96fb-f105b939462e",
   "metadata": {},
   "outputs": [],
   "source": [
    "stock_json = response.json() \n",
    "print(stock_json['quoteResponse']['result'][0][\"longName\"])"
   ]
  },
  {
   "cell_type": "code",
   "execution_count": null,
   "id": "85a3bcbd-902b-4397-8393-353708b9e78e",
   "metadata": {},
   "outputs": [],
   "source": [
    "stock_json_current_price = response.json() \n",
    "print(stock_json['quoteResponse']['result'][0][\"regularMarketPrice\"])"
   ]
  },
  {
   "cell_type": "code",
   "execution_count": null,
   "id": "f8040b08-b371-463a-9ead-5cb5679a3eb3",
   "metadata": {},
   "outputs": [],
   "source": [
    "stock = input()"
   ]
  },
  {
   "cell_type": "code",
   "execution_count": null,
   "id": "80abfb6e-3fea-43b7-a9be-b9bc23c6eba9",
   "metadata": {},
   "outputs": [],
   "source": [
    "apikey=\"T6jiwRsdqm82cxKlnTy5W3P75YdkjmCy61H7zyz1\"\n",
    "\n",
    "url = \"https://yfapi.net/v11/finance/quoteSummary/{symbol}\"\n",
    "\n",
    "querystring = {\"symbols\":stock}\n",
    "\n",
    "headers = {\n",
    "    'x-api-key': apikey\n",
    "    }\n",
    "\n",
    "response = requests.request(\"GET\", url, headers=headers, params=querystring)\n",
    "\n",
    "print(response.text)"
   ]
  },
  {
   "cell_type": "code",
   "execution_count": null,
   "id": "466ceb6d-30fb-4852-80ee-998e6c974984",
   "metadata": {},
   "outputs": [],
   "source": []
  }
 ],
 "metadata": {
  "kernelspec": {
   "display_name": "Python 3 (ipykernel)",
   "language": "python",
   "name": "python3"
  },
  "language_info": {
   "codemirror_mode": {
    "name": "ipython",
    "version": 3
   },
   "file_extension": ".py",
   "mimetype": "text/x-python",
   "name": "python",
   "nbconvert_exporter": "python",
   "pygments_lexer": "ipython3",
   "version": "3.8.13"
  }
 },
 "nbformat": 4,
 "nbformat_minor": 5
}
